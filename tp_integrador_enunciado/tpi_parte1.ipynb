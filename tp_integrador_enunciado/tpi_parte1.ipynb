{
  "cells": [
    {
      "attachments": {},
      "cell_type": "markdown",
      "id": "07289bb0",
      "metadata": {},
      "source": [
        "# Trabajo integrador - Parte 1\n",
        "## Python y Numpy\n",
        "\n",
        "**Nombre**:"
      ]
    },
    {
      "cell_type": "code",
      "execution_count": null,
      "id": "aaf94e0a",
      "metadata": {
        "id": "aaf94e0a"
      },
      "outputs": [],
      "source": [
        "import numpy as np"
      ]
    },
    {
      "attachments": {},
      "cell_type": "markdown",
      "id": "0ffe9554",
      "metadata": {},
      "source": [
        "## Ejercicio 1\n",
        "\n",
        "Dada una matriz en formato *numpy array*, donde cada fila de la matriz representa un vector matemático, se requiere computar las normas $l_0$, $l_1$, $l_2$, $l_{\\infty}$, según la siguientes definiciones:\n",
        "\n",
        "\\begin{equation}\n",
        "    ||\\mathbf{x}||^{p} = \\bigg(\\sum_{j=1}^{n}{|x_i|^p}\\bigg)^{\\frac{1}{p}}\n",
        "\\end{equation}\n",
        "\n",
        "con los casos especiales para $p=0$ y $p=\\infty$ siendo:\n",
        "\n",
        "\\begin{equation}\n",
        "    \\begin{array}{rcl}\n",
        "        ||\\mathbf{x}||_0 & = & \\bigg(\\sum_{j=1 \\wedge x_j != 0}{|x_i|}\\bigg)\\\\\n",
        "        ||\\mathbf{x}||_{\\infty} & = & \\max_{i}{|x_i|}\\\\\n",
        "    \\end{array}\n",
        "\\end{equation}"
      ]
    },
    {
      "cell_type": "code",
      "execution_count": 2,
      "id": "0bdb0ee3",
      "metadata": {},
      "outputs": [
        {
          "name": "stdout",
          "output_type": "stream",
          "text": [
            "[[2 1 2 1]\n",
            " [4 3 1 1]\n",
            " [0 4 1 3]\n",
            " [4 0 0 1]]\n"
          ]
        },
        {
          "data": {
            "text/plain": [
              "13"
            ]
          },
          "execution_count": 2,
          "metadata": {},
          "output_type": "execute_result"
        }
      ],
      "source": [
        "import numpy as np\n",
        "\n",
        "def norma_p(matriz,n_norma):\n",
        "    if n_norma==0:\n",
        "        norma=np.sum(matriz != 0, axis=1).sum()\n",
        "    elif n_norma==np.inf:\n",
        "        norma = np.max(np.sum(np.abs(matriz), axis=1))\n",
        "    else:\n",
        "        norma=np.sum(np.abs(matriz)**n_norma)**(1/n_norma)\n",
        "    return norma\n",
        "    print(norma)\n",
        "\n",
        "matriz=np.array(np.random.randint(0,5,(4,4)))\n",
        "print(matriz)\n",
        "\n",
        "norma_p(matriz,0)\n",
        "\n",
        "\n"
      ]
    },
    {
      "attachments": {},
      "cell_type": "markdown",
      "id": "dd66d862",
      "metadata": {},
      "source": [
        "## Ejercicio 2\n",
        "\n",
        "En clasificación contamos con dos arreglos, la “verdad” y la “predicción”. Cada elemento de los arreglos pueden tomar dos valores, “True” (representado por 1) y “False” (representado por 0). Entonces podemos definir 4 variables:\n",
        "\n",
        "* True Positive (TP): El valor verdadero es 1 y el valor predicho es 1\n",
        "* True Negative (TN): El valor verdadero es 0 y el valor predicho es 0\n",
        "* False Positive (FP): El valor verdadero es 0 y el valor predicho es 1\n",
        "* False Negative (FN): El valor verdadero es 1 y el valor predicho es 0\n",
        "\n",
        "A partir de esto definimos:\n",
        "\n",
        "* Precision = TP / (TP + FP)\n",
        "* Recall = TP / (TP + FN)\n",
        "* Accuracy = (TP + TN) / (TP + TN + FP + FN)\n",
        " \n",
        "Calcular las 3 métricas con Numpy y operaciones vectorizadas."
      ]
    },
    {
      "cell_type": "code",
      "execution_count": 3,
      "id": "794dcd58",
      "metadata": {},
      "outputs": [
        {
          "name": "stdout",
          "output_type": "stream",
          "text": [
            "[1 1 0 1 1 1 0 0 0 1]\n",
            "[1 1 1 1 0 0 1 1 0 0]\n",
            "TP = 3 TN = 1 FP = 3 FN = 3\n",
            "Precision = TP/(TP+FP) =  0.5\n",
            "Recall = TP/(TP + FN) = 0.5\n",
            "Accuracy = (TP+TN)/(TP + TN + FP + FN) = 0.4\n"
          ]
        }
      ],
      "source": [
        "truth = np.array([1,1,0,1,1,1,0,0,0,1])\n",
        "prediction = np.array([1,1,1,1,0,0,1,1,0,0])\n",
        "\n",
        "print(truth)\n",
        "print(prediction)\n",
        "\n",
        "# Verdad y prediccion\n",
        "\n",
        "tp=np.sum(truth*prediction) # np.sum([1 for t,p in zip(truth,prediction) if t==1 and p==1])\n",
        "tn=np.count_nonzero((truth+prediction)==0) # np.sum([1 for t,p in zip(truth,prediction) if t==1 and p==0])\n",
        "fp=np.sum([1 for t,p in zip(truth,prediction) if t==0 and p==1])\n",
        "fn=np.sum([1 for t,p in zip(truth,prediction) if t==1 and p==0])\n",
        "\n",
        "print(f\"TP =\",tp, \"TN =\",tn, \"FP =\",fp,\"FN =\", fn)\n",
        "\n",
        "# Metricas\n",
        "\n",
        "# Precision\n",
        "\n",
        "precision=tp/np.sum(tp+fp)\n",
        "print(f\"Precision = TP/(TP+FP) = \",precision)\n",
        "\n",
        "# Recall\n",
        "\n",
        "recall=tp/np.sum(tp+fn)\n",
        "print(f\"Recall = TP/(TP + FN) =\",recall)\n",
        "\n",
        "# Accuracy\n",
        "\n",
        "accuracy=np.sum(tp+tn)/np.sum(tp+tn+fp+fn)\n",
        "print(f\"Accuracy = (TP+TN)/(TP + TN + FP + FN) =\",accuracy)\n",
        "\n",
        "\n",
        "\n",
        "\n",
        "\n"
      ]
    },
    {
      "attachments": {},
      "cell_type": "markdown",
      "id": "d0ac6f6f",
      "metadata": {},
      "source": [
        "## Ejercicio 3\n",
        "\n",
        "Crear una función que separe los datos en train-validation-test. Debe recibir de parametros:\n",
        "\n",
        "- X: Array o Dataframe que contiene los datos de entrada del sistema.\n",
        "- y: Array o Dataframe que contiene la(s) variable(s) target del problema.\n",
        "- train_percentage: _float_ el porcentaje de training.\n",
        "- test_percentage: _float_ el porcentaje de testing.\n",
        "- val_percentage: _float_ el porcentaje de validación.\n",
        "- shuffle: _bool_ determina si el split debe hacerse de manera random o no.\n",
        "\n",
        "Hints: \n",
        "\n",
        "* Usar Indexing y slicing\n",
        "* Usar np.random.[...]"
      ]
    },
    {
      "cell_type": "code",
      "execution_count": 4,
      "id": "ca85fc66",
      "metadata": {},
      "outputs": [
        {
          "name": "stdout",
          "output_type": "stream",
          "text": [
            "Dimension de X_cancer (569, 30)\n",
            "Dimension de y_cancer (569,)\n",
            "Dimensiones de X_train_cancer: (389, 30)\n",
            "Dimensiones de X_test_cancer: (83, 30)\n",
            "Dimensiones de X_validation_cancer: (97, 30)\n",
            "Dimensiones de y_train_cancer: (389, 1)\n",
            "Dimensiones de y_test_cancer: (83, 1)\n",
            "Dimensiones de y_validation_cancer: (97, 1)\n"
          ]
        }
      ],
      "source": [
        "import pandas as pd\n",
        "import numpy as np\n",
        "from sklearn.datasets import load_breast_cancer # Dataset de prueba para probar funcionalidad de función\n",
        "\n",
        "def split(X_input,\n",
        "          Y_input,\n",
        "          train_size,\n",
        "          val_size,\n",
        "          test_size,\n",
        "          random_state=42,\n",
        "          shuffle=True):\n",
        "    \n",
        "    np.random.seed(random_state) # seteo semilla para reproducibilidad de los datos en este por default es 42\n",
        "\n",
        "    size = sum((train_size,test_size,val_size)) # calculo si la sum % de las 3 particiones suman 1\n",
        "    if size != 1: # valido condicion que la sum % de las 3 particiones sumen 1\n",
        "        print (f\"La suma de % de splits debe ser 100%:\", size, \"Por favor ingresa los valores nuevamente\")\n",
        "    else:\n",
        "        if not isinstance(X_input, pd.DataFrame): # convierto a DataFrame en el caso que X_input no lo sea\n",
        "            X_input = pd.DataFrame(X_input, columns = [\"col_\" + str(i) for i in range(X_input.shape[1])]) # genero dataframe X_input\n",
        "\n",
        "        n_samples = X_input.shape[0] # determino numero de muestras \n",
        "\n",
        "        split_series = np.random.choice(a = [\"train\",\"test\",\"validation\"], p = [train_size, test_size, val_size], size = n_samples) # genera particiones aleatorias para train, test y validation en funcion de los tamaños de informados en train_size, val_size y test_size\n",
        "        split_series = pd.Series(split_series) # convierte las particiones en una serie pandas\n",
        "        \n",
        "        X_train, X_test, X_validation = X_input.iloc[split_series[split_series == \"train\"].index,:], X_input.iloc[split_series[split_series == \"test\"].index,:], X_input.iloc[split_series[split_series == \"validation\"].index,:] # subdivicion de conjuntos X_train, X_test, X_validation \n",
        "        if not isinstance(Y_input, pd.DataFrame): #convierto a DataFrame en el caso que Y_input no lo sea\n",
        "            Y_input = pd.DataFrame(Y_input, columns=[\"target\"])\n",
        "\n",
        "        y_train, y_test, y_validation = Y_input.iloc[split_series[split_series == \"train\"].index, :], Y_input.iloc[split_series[split_series == \"test\"].index, :], Y_input.iloc[split_series[split_series == \"validation\"].index, :] #subdivicion de conjuntos Y_train, Y_test, Y_validation \n",
        "    \n",
        "        return X_train, X_test, X_validation, y_train, y_test, y_validation\n",
        "\n",
        "\n",
        "\n",
        "cancer=load_breast_cancer()\n",
        "\n",
        "X_cancer, y_cancer = cancer.data, cancer.target\n",
        "\n",
        "X_train, X_test, X_validation, y_train, y_test, y_validation=split(X_cancer,y_cancer,train_size=0.70,val_size=0.15,test_size=0.15)\n",
        "\n",
        "# Imprimir las dimensiones de los conjuntos divididos\n",
        "print(\"Dimension de X_cancer\",X_cancer.shape)\n",
        "print(\"Dimension de y_cancer\",y_cancer.shape)\n",
        "print(\"Dimensiones de X_train_cancer:\", X_train.shape)\n",
        "print(\"Dimensiones de X_test_cancer:\", X_test.shape)\n",
        "print(\"Dimensiones de X_validation_cancer:\", X_validation.shape)\n",
        "print(\"Dimensiones de y_train_cancer:\", y_train.shape)\n",
        "print(\"Dimensiones de y_test_cancer:\", y_test.shape)\n",
        "print(\"Dimensiones de y_validation_cancer:\", y_validation.shape)\n",
        "\n"
      ]
    }
  ],
  "metadata": {
    "colab": {
      "collapsed_sections": [],
      "name": "Practica_clase_3.ipynb",
      "provenance": []
    },
    "kernelspec": {
      "display_name": "Python 3.10.7 64-bit",
      "language": "python",
      "name": "python3"
    },
    "language_info": {
      "codemirror_mode": {
        "name": "ipython",
        "version": 3
      },
      "file_extension": ".py",
      "mimetype": "text/x-python",
      "name": "python",
      "nbconvert_exporter": "python",
      "pygments_lexer": "ipython3",
      "version": "3.11.7"
    },
    "vscode": {
      "interpreter": {
        "hash": "b5c22da4a52024410f64f9c5a5e2b4ffeeb944a5ed00e8825a42174cdab30315"
      }
    }
  },
  "nbformat": 4,
  "nbformat_minor": 5
}
